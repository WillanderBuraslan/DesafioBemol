{
 "cells": [
  {
   "cell_type": "markdown",
   "metadata": {},
   "source": [
    "# DESAFIO BEMOL"
   ]
  },
  {
   "cell_type": "markdown",
   "metadata": {},
   "source": [
    "Willander Buraslan"
   ]
  },
  {
   "cell_type": "markdown",
   "metadata": {},
   "source": [
    "#Previamente, abri os arquivos no excel para inputar o cabeçalho na planilha \"clientes\" e entender os dados.\n",
    "#Transformei \",\" em \".\" e \";\" em \",\" para gerar dois arquivos .csv\n",
    "#Fiz o upload dos arquivos no meu github para tornar o processo mais acessível e identificar erros, caso tivessem.\n",
    "#A partir daí, passei a trabalhar no Jupyter Notebook."
   ]
  },
  {
   "cell_type": "code",
   "execution_count": 56,
   "metadata": {},
   "outputs": [],
   "source": [
    "#importei as bibliotecas necessárias\n",
    "import pandas as pd\n",
    "import numpy as np"
   ]
  },
  {
   "cell_type": "code",
   "execution_count": 57,
   "metadata": {
    "scrolled": true
   },
   "outputs": [
    {
     "name": "stdout",
     "output_type": "stream",
     "text": [
      "   cliente  saldo  historico  soma_pontos  uso_pontos  expirado  avista  \\\n",
      "0        7   3673      15673        12024       12000       485      27   \n",
      "1        6   3434      27434         1500           0      2734      28   \n",
      "2        5   3235      30235        13491        9000         0      45   \n",
      "3        8   2467       8467            0           0      2311       4   \n",
      "4        9   2924      29924         6319        6000         0       5   \n",
      "\n",
      "   soma_avista  aprazo  soma_aprazo  soma_pontualidade  \n",
      "0          304      48       6487.0                598  \n",
      "1            0      14          0.0                  0  \n",
      "2          292     168       7684.7               1138  \n",
      "3            0      25          0.0                  0  \n",
      "4            0      73       3468.0                651  \n"
     ]
    }
   ],
   "source": [
    "#Abri o arquivo bonus através do link do mesmo no github e após transforma-lo em um arquivo .csv\n",
    "bonus = pd.read_csv(\"https://raw.githubusercontent.com/WillanderBuraslan/DesafioBemol/master/bonuslimpo.csv\")\n",
    "print(bonus.head())\n"
   ]
  },
  {
   "cell_type": "code",
   "execution_count": 58,
   "metadata": {},
   "outputs": [
    {
     "name": "stdout",
     "output_type": "stream",
     "text": [
      "   cliente data_compra  identificacao  idade estado_civil  A  B  C  D  E   F  \\\n",
      "0        1  23/10/1999    61438761231     61    Casado(a)  S  S  2  S  N   0   \n",
      "1        2  23/10/1999     7539570251     66    Casado(a)  N  N  3  N  N  21   \n",
      "2        3  23/10/1999     5429217161     66  Solteiro(a)  S  S  2  S  N   5   \n",
      "3        4  23/10/1999     1761017149     83    Casado(a)  S  S  1  S  S   0   \n",
      "4        5  23/10/1999     4321391204     70    Casado(a)  S  S  2  N  S   0   \n",
      "\n",
      "               renda            comp_renda  bandeira_cartao    G sexo produto   \n",
      "0  2.001.00-4.000.00            Não Possui             Visa  149    F      N04  \n",
      "1      Até  1.000.00            Não Possui           Nenhum    8    M      N05  \n",
      "2  2.001.00-4.000.00   Compr. de Atividade  Mastercard+Visa   91    M      N12  \n",
      "3  1.001.00-2.000.00  Ct-chq/IR (NAO USAR)           Nenhum  378    M      N12  \n",
      "4  1.001.00-2.000.00            Não Possui           Nenhum   19    F      N04  \n"
     ]
    }
   ],
   "source": [
    "#Abri o arquivo clientes através do link do mesmo no github e após transforma-lo em um arquivo .csv\n",
    "clientes = pd.read_csv(\"https://raw.githubusercontent.com/WillanderBuraslan/DesafioBemol/master/clienteslimpo.csv\")\n",
    "print(clientes.head())"
   ]
  },
  {
   "cell_type": "code",
   "execution_count": 59,
   "metadata": {},
   "outputs": [
    {
     "name": "stdout",
     "output_type": "stream",
     "text": [
      "(10, 11)\n",
      "(10, 17)\n"
     ]
    }
   ],
   "source": [
    "#Identifiquei a quantidade de linhas e de colunas para verificar se os arquivos estavam compatíveis, no caso sim\n",
    "print(bonus.shape)\n",
    "print(clientes.shape)"
   ]
  },
  {
   "cell_type": "code",
   "execution_count": 60,
   "metadata": {},
   "outputs": [],
   "source": [
    "#Fiz o merge dos dois arquivos, nesse caso instituí o parametro cliente para left on e right on\n",
    "#Coloquei o arquivo bonus como fixo e inclui o arquivo clientes depois\n",
    "dados = bonus.merge(clientes, left_on='cliente', right_on='cliente', how='outer')"
   ]
  },
  {
   "cell_type": "code",
   "execution_count": 61,
   "metadata": {},
   "outputs": [
    {
     "name": "stdout",
     "output_type": "stream",
     "text": [
      "   cliente  saldo  historico  soma_pontos  uso_pontos  expirado  avista  \\\n",
      "0        7   3673      15673        12024       12000       485      27   \n",
      "1        6   3434      27434         1500           0      2734      28   \n",
      "2        5   3235      30235        13491        9000         0      45   \n",
      "3        8   2467       8467            0           0      2311       4   \n",
      "4        9   2924      29924         6319        6000         0       5   \n",
      "5        3   1000       1000            0           0      1000       0   \n",
      "6       10   1000       1000            0           0      1000       0   \n",
      "7        4   1000       1000            0           0      1000       0   \n",
      "8        2   1283       1283            0           0      1283       2   \n",
      "9        1   2095       2095            0           0      2095       0   \n",
      "\n",
      "   soma_avista  aprazo  soma_aprazo   ...     C  D  E   F              renda  \\\n",
      "0          304      48       6487.0   ...     2  N  N   0                NaN   \n",
      "1            0      14          0.0   ...     0  S  N   0      Até  1.000.00   \n",
      "2          292     168       7684.7   ...     2  N  S   0  1.001.00-2.000.00   \n",
      "3            0      25          0.0   ...     2  N  S   0      Até  1.000.00   \n",
      "4            0      73       3468.0   ...     0  N  N   9  2.001.00-4.000.00   \n",
      "5            0       6          0.0   ...     2  S  N   5  2.001.00-4.000.00   \n",
      "6            0      10          0.0   ...     2  S  N  15  2.001.00-4.000.00   \n",
      "7            0       3          0.0   ...     1  S  S   0  1.001.00-2.000.00   \n",
      "8            0       4          0.0   ...     3  N  N  21      Até  1.000.00   \n",
      "9            0      10          0.0   ...     2  S  N   0  2.001.00-4.000.00   \n",
      "\n",
      "             comp_renda       bandeira_cartao    G sexo produto   \n",
      "0            Não Possui                Nenhum   30    F      N05  \n",
      "1            Não Possui                Nenhum   20    M      N01  \n",
      "2            Não Possui                Nenhum   19    F      N04  \n",
      "3            Não Possui                Nenhum   29    M      N07  \n",
      "4            Não Possui                Nenhum   32    M      N13  \n",
      "5   Compr. de Atividade       Mastercard+Visa   91    M      N12  \n",
      "6  Ct-chq/IR (NAO USAR)  Outros/Cartões Lojas    0    M      N04  \n",
      "7  Ct-chq/IR (NAO USAR)                Nenhum  378    M      N12  \n",
      "8            Não Possui                Nenhum    8    M      N05  \n",
      "9            Não Possui                  Visa  149    F      N04  \n",
      "\n",
      "[10 rows x 27 columns]\n"
     ]
    }
   ],
   "source": [
    "#Imprimí a tabela com o merge entre os dois arquivos\n",
    "print(dados)"
   ]
  },
  {
   "cell_type": "code",
   "execution_count": 62,
   "metadata": {},
   "outputs": [],
   "source": [
    "#Acrescentei uma nova coluna na planilha dados e somei as colunas saldo+historico\n",
    "dados['saldo_historico'] = dados['saldo'] + dados['historico']\n"
   ]
  },
  {
   "cell_type": "code",
   "execution_count": 63,
   "metadata": {},
   "outputs": [
    {
     "name": "stdout",
     "output_type": "stream",
     "text": [
      "   cliente  saldo  historico  soma_pontos  uso_pontos  expirado  avista  \\\n",
      "0        7   3673      15673        12024       12000       485      27   \n",
      "1        6   3434      27434         1500           0      2734      28   \n",
      "2        5   3235      30235        13491        9000         0      45   \n",
      "3        8   2467       8467            0           0      2311       4   \n",
      "4        9   2924      29924         6319        6000         0       5   \n",
      "5        3   1000       1000            0           0      1000       0   \n",
      "6       10   1000       1000            0           0      1000       0   \n",
      "7        4   1000       1000            0           0      1000       0   \n",
      "8        2   1283       1283            0           0      1283       2   \n",
      "9        1   2095       2095            0           0      2095       0   \n",
      "\n",
      "   soma_avista  aprazo  soma_aprazo       ...        D  E   F  \\\n",
      "0          304      48       6487.0       ...        N  N   0   \n",
      "1            0      14          0.0       ...        S  N   0   \n",
      "2          292     168       7684.7       ...        N  S   0   \n",
      "3            0      25          0.0       ...        N  S   0   \n",
      "4            0      73       3468.0       ...        N  N   9   \n",
      "5            0       6          0.0       ...        S  N   5   \n",
      "6            0      10          0.0       ...        S  N  15   \n",
      "7            0       3          0.0       ...        S  S   0   \n",
      "8            0       4          0.0       ...        N  N  21   \n",
      "9            0      10          0.0       ...        S  N   0   \n",
      "\n",
      "               renda            comp_renda       bandeira_cartao    G  sexo  \\\n",
      "0                NaN            Não Possui                Nenhum   30     F   \n",
      "1      Até  1.000.00            Não Possui                Nenhum   20     M   \n",
      "2  1.001.00-2.000.00            Não Possui                Nenhum   19     F   \n",
      "3      Até  1.000.00            Não Possui                Nenhum   29     M   \n",
      "4  2.001.00-4.000.00            Não Possui                Nenhum   32     M   \n",
      "5  2.001.00-4.000.00   Compr. de Atividade       Mastercard+Visa   91     M   \n",
      "6  2.001.00-4.000.00  Ct-chq/IR (NAO USAR)  Outros/Cartões Lojas    0     M   \n",
      "7  1.001.00-2.000.00  Ct-chq/IR (NAO USAR)                Nenhum  378     M   \n",
      "8      Até  1.000.00            Não Possui                Nenhum    8     M   \n",
      "9  2.001.00-4.000.00            Não Possui                  Visa  149     F   \n",
      "\n",
      "  produto  saldo_historico  \n",
      "0      N05           19346  \n",
      "1      N01           30868  \n",
      "2      N04           33470  \n",
      "3      N07           10934  \n",
      "4      N13           32848  \n",
      "5      N12            2000  \n",
      "6      N04            2000  \n",
      "7      N12            2000  \n",
      "8      N05            2566  \n",
      "9      N04            4190  \n",
      "\n",
      "[10 rows x 28 columns]\n"
     ]
    }
   ],
   "source": [
    "#Imprimi a nova tabela com a ultima coluna sendo o saldo historico\n",
    "#os valores da ultima coluna são a soma entre o saldo e o historico de cada cliente\n",
    "print(dados)"
   ]
  },
  {
   "cell_type": "code",
   "execution_count": 77,
   "metadata": {},
   "outputs": [],
   "source": [
    "dados.reset_index().to_csv('DADOSexportados.csv' , header=True , index=False) "
   ]
  },
  {
   "cell_type": "code",
   "execution_count": 78,
   "metadata": {},
   "outputs": [
    {
     "name": "stdout",
     "output_type": "stream",
     "text": [
      "Muito Obrigado!\n"
     ]
    }
   ],
   "source": [
    "print(\"Muito Obrigado!\")"
   ]
  }
 ],
 "metadata": {
  "kernelspec": {
   "display_name": "Python 3",
   "language": "python",
   "name": "python3"
  },
  "language_info": {
   "codemirror_mode": {
    "name": "ipython",
    "version": 3
   },
   "file_extension": ".py",
   "mimetype": "text/x-python",
   "name": "python",
   "nbconvert_exporter": "python",
   "pygments_lexer": "ipython3",
   "version": "3.6.4"
  }
 },
 "nbformat": 4,
 "nbformat_minor": 2
}
